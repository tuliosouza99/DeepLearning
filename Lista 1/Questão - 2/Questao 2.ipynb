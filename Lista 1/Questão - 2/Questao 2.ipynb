{
  "cells": [
    {
      "cell_type": "markdown",
      "metadata": {
        "id": "Zjm61AALl0Xn"
      },
      "source": [
        "# Rede Perceptron de Múltiplas Camadas\n",
        "&nbsp;\n",
        "\n",
        "**Questão 2** - Implemente uma rede perceptron de múltiplas camadas e utilize-a para aproximar as\n",
        "funções abaixo. Em seguida, compare os resultados com as curvas exatas. No caso das letras\n",
        "(b) e (c), apresente também a curva do erro médio de treinamento com relação ao número de\n",
        "épocas e a curva do erro médio com o conjunto de validação.\n",
        "\n",
        "a) a função lógica XOR\n",
        "\n",
        "b) f(x) = log10(x), onde 1 ≤ x ≤ 10\n",
        "\n",
        "c) f(x) = $10x^5+ 5x^4+ 2x^3– 0.5x^2+ 3x + 2$, onde 0 ≤ x ≤ 20\n",
        "\n",
        "Dica: Selecione um conjunto de amostras para cada função (onde x é a entrada e f(x) é a saída\n",
        "desejada - rótulo). Essas amostras devem ser divididas em, pelo menos, dois conjuntos:\n",
        "treinamento e validação. Treine um perceptron de múltiplas camadas para que ele aprenda a\n",
        "aproximar a função a partir do conjunto de treinamento, e vá testando com o conjunto de\n",
        "validação."
      ]
    },
    {
      "cell_type": "markdown",
      "metadata": {
        "id": "09Lxa8oTl0Xr"
      },
      "source": [
        "# a) Função lógica XOR\n",
        " **Importação das bibliotecas**"
      ]
    },
    {
      "cell_type": "code",
      "execution_count": 4,
      "metadata": {
        "id": "bvbtUGpyl0Xr"
      },
      "outputs": [],
      "source": [
        "import matplotlib.pyplot as plt\n",
        "import tensorflow as tf\n",
        "import pandas as pd\n",
        "from tensorflow.keras.models import Sequential\n",
        "from tensorflow.keras.layers import Dense\n",
        "from sklearn.model_selection import train_test_split\n",
        "from sklearn.preprocessing import StandardScaler\n",
        "from sklearn.metrics import confusion_matrix, accuracy_score\n",
        "import matplotlib.pyplot as plt\n",
        "from sklearn.metrics import confusion_matrix, r2_score\n",
        "\n",
        "from data_generator import generate_data_a, generate_data_b, generate_data_c"
      ]
    },
    {
      "cell_type": "markdown",
      "metadata": {
        "id": "hVl09pSBl0Xt"
      },
      "source": [
        "#### Declaração dos Arrays de entrada e saída"
      ]
    },
    {
      "cell_type": "code",
      "execution_count": 6,
      "metadata": {
        "id": "DnWLxzMNl0Xt"
      },
      "outputs": [],
      "source": [
        "df = generate_data_a()"
      ]
    },
    {
      "cell_type": "code",
      "execution_count": 7,
      "metadata": {
        "colab": {
          "base_uri": "https://localhost:8080/",
          "height": 175
        },
        "id": "nBNk4GyJl0Xt",
        "outputId": "a2f8182a-3baf-4b7d-ab7f-302739442abd"
      },
      "outputs": [
        {
          "data": {
            "text/html": [
              "\n",
              "  <div id=\"df-b99d3e61-7a62-44c8-981c-11636dbebf51\" class=\"colab-df-container\">\n",
              "    <div>\n",
              "<style scoped>\n",
              "    .dataframe tbody tr th:only-of-type {\n",
              "        vertical-align: middle;\n",
              "    }\n",
              "\n",
              "    .dataframe tbody tr th {\n",
              "        vertical-align: top;\n",
              "    }\n",
              "\n",
              "    .dataframe thead th {\n",
              "        text-align: right;\n",
              "    }\n",
              "</style>\n",
              "<table border=\"1\" class=\"dataframe\">\n",
              "  <thead>\n",
              "    <tr style=\"text-align: right;\">\n",
              "      <th></th>\n",
              "      <th>x1</th>\n",
              "      <th>x2</th>\n",
              "      <th>y</th>\n",
              "    </tr>\n",
              "  </thead>\n",
              "  <tbody>\n",
              "    <tr>\n",
              "      <th>0</th>\n",
              "      <td>0</td>\n",
              "      <td>0</td>\n",
              "      <td>0</td>\n",
              "    </tr>\n",
              "    <tr>\n",
              "      <th>1</th>\n",
              "      <td>1</td>\n",
              "      <td>0</td>\n",
              "      <td>1</td>\n",
              "    </tr>\n",
              "    <tr>\n",
              "      <th>2</th>\n",
              "      <td>0</td>\n",
              "      <td>1</td>\n",
              "      <td>1</td>\n",
              "    </tr>\n",
              "    <tr>\n",
              "      <th>3</th>\n",
              "      <td>1</td>\n",
              "      <td>1</td>\n",
              "      <td>0</td>\n",
              "    </tr>\n",
              "  </tbody>\n",
              "</table>\n",
              "</div>\n",
              "    <div class=\"colab-df-buttons\">\n",
              "\n",
              "  <div class=\"colab-df-container\">\n",
              "    <button class=\"colab-df-convert\" onclick=\"convertToInteractive('df-b99d3e61-7a62-44c8-981c-11636dbebf51')\"\n",
              "            title=\"Convert this dataframe to an interactive table.\"\n",
              "            style=\"display:none;\">\n",
              "\n",
              "  <svg xmlns=\"http://www.w3.org/2000/svg\" height=\"24px\" viewBox=\"0 -960 960 960\">\n",
              "    <path d=\"M120-120v-720h720v720H120Zm60-500h600v-160H180v160Zm220 220h160v-160H400v160Zm0 220h160v-160H400v160ZM180-400h160v-160H180v160Zm440 0h160v-160H620v160ZM180-180h160v-160H180v160Zm440 0h160v-160H620v160Z\"/>\n",
              "  </svg>\n",
              "    </button>\n",
              "\n",
              "  <style>\n",
              "    .colab-df-container {\n",
              "      display:flex;\n",
              "      gap: 12px;\n",
              "    }\n",
              "\n",
              "    .colab-df-convert {\n",
              "      background-color: #E8F0FE;\n",
              "      border: none;\n",
              "      border-radius: 50%;\n",
              "      cursor: pointer;\n",
              "      display: none;\n",
              "      fill: #1967D2;\n",
              "      height: 32px;\n",
              "      padding: 0 0 0 0;\n",
              "      width: 32px;\n",
              "    }\n",
              "\n",
              "    .colab-df-convert:hover {\n",
              "      background-color: #E2EBFA;\n",
              "      box-shadow: 0px 1px 2px rgba(60, 64, 67, 0.3), 0px 1px 3px 1px rgba(60, 64, 67, 0.15);\n",
              "      fill: #174EA6;\n",
              "    }\n",
              "\n",
              "    .colab-df-buttons div {\n",
              "      margin-bottom: 4px;\n",
              "    }\n",
              "\n",
              "    [theme=dark] .colab-df-convert {\n",
              "      background-color: #3B4455;\n",
              "      fill: #D2E3FC;\n",
              "    }\n",
              "\n",
              "    [theme=dark] .colab-df-convert:hover {\n",
              "      background-color: #434B5C;\n",
              "      box-shadow: 0px 1px 3px 1px rgba(0, 0, 0, 0.15);\n",
              "      filter: drop-shadow(0px 1px 2px rgba(0, 0, 0, 0.3));\n",
              "      fill: #FFFFFF;\n",
              "    }\n",
              "  </style>\n",
              "\n",
              "    <script>\n",
              "      const buttonEl =\n",
              "        document.querySelector('#df-b99d3e61-7a62-44c8-981c-11636dbebf51 button.colab-df-convert');\n",
              "      buttonEl.style.display =\n",
              "        google.colab.kernel.accessAllowed ? 'block' : 'none';\n",
              "\n",
              "      async function convertToInteractive(key) {\n",
              "        const element = document.querySelector('#df-b99d3e61-7a62-44c8-981c-11636dbebf51');\n",
              "        const dataTable =\n",
              "          await google.colab.kernel.invokeFunction('convertToInteractive',\n",
              "                                                    [key], {});\n",
              "        if (!dataTable) return;\n",
              "\n",
              "        const docLinkHtml = 'Like what you see? Visit the ' +\n",
              "          '<a target=\"_blank\" href=https://colab.research.google.com/notebooks/data_table.ipynb>data table notebook</a>'\n",
              "          + ' to learn more about interactive tables.';\n",
              "        element.innerHTML = '';\n",
              "        dataTable['output_type'] = 'display_data';\n",
              "        await google.colab.output.renderOutput(dataTable, element);\n",
              "        const docLink = document.createElement('div');\n",
              "        docLink.innerHTML = docLinkHtml;\n",
              "        element.appendChild(docLink);\n",
              "      }\n",
              "    </script>\n",
              "  </div>\n",
              "\n",
              "\n",
              "<div id=\"df-1802f2a5-1e17-4f3c-a5f1-4e94e71ef8a1\">\n",
              "  <button class=\"colab-df-quickchart\" onclick=\"quickchart('df-1802f2a5-1e17-4f3c-a5f1-4e94e71ef8a1')\"\n",
              "            title=\"Suggest charts.\"\n",
              "            style=\"display:none;\">\n",
              "\n",
              "<svg xmlns=\"http://www.w3.org/2000/svg\" height=\"24px\"viewBox=\"0 0 24 24\"\n",
              "     width=\"24px\">\n",
              "    <g>\n",
              "        <path d=\"M19 3H5c-1.1 0-2 .9-2 2v14c0 1.1.9 2 2 2h14c1.1 0 2-.9 2-2V5c0-1.1-.9-2-2-2zM9 17H7v-7h2v7zm4 0h-2V7h2v10zm4 0h-2v-4h2v4z\"/>\n",
              "    </g>\n",
              "</svg>\n",
              "  </button>\n",
              "\n",
              "<style>\n",
              "  .colab-df-quickchart {\n",
              "      --bg-color: #E8F0FE;\n",
              "      --fill-color: #1967D2;\n",
              "      --hover-bg-color: #E2EBFA;\n",
              "      --hover-fill-color: #174EA6;\n",
              "      --disabled-fill-color: #AAA;\n",
              "      --disabled-bg-color: #DDD;\n",
              "  }\n",
              "\n",
              "  [theme=dark] .colab-df-quickchart {\n",
              "      --bg-color: #3B4455;\n",
              "      --fill-color: #D2E3FC;\n",
              "      --hover-bg-color: #434B5C;\n",
              "      --hover-fill-color: #FFFFFF;\n",
              "      --disabled-bg-color: #3B4455;\n",
              "      --disabled-fill-color: #666;\n",
              "  }\n",
              "\n",
              "  .colab-df-quickchart {\n",
              "    background-color: var(--bg-color);\n",
              "    border: none;\n",
              "    border-radius: 50%;\n",
              "    cursor: pointer;\n",
              "    display: none;\n",
              "    fill: var(--fill-color);\n",
              "    height: 32px;\n",
              "    padding: 0;\n",
              "    width: 32px;\n",
              "  }\n",
              "\n",
              "  .colab-df-quickchart:hover {\n",
              "    background-color: var(--hover-bg-color);\n",
              "    box-shadow: 0 1px 2px rgba(60, 64, 67, 0.3), 0 1px 3px 1px rgba(60, 64, 67, 0.15);\n",
              "    fill: var(--button-hover-fill-color);\n",
              "  }\n",
              "\n",
              "  .colab-df-quickchart-complete:disabled,\n",
              "  .colab-df-quickchart-complete:disabled:hover {\n",
              "    background-color: var(--disabled-bg-color);\n",
              "    fill: var(--disabled-fill-color);\n",
              "    box-shadow: none;\n",
              "  }\n",
              "\n",
              "  .colab-df-spinner {\n",
              "    border: 2px solid var(--fill-color);\n",
              "    border-color: transparent;\n",
              "    border-bottom-color: var(--fill-color);\n",
              "    animation:\n",
              "      spin 1s steps(1) infinite;\n",
              "  }\n",
              "\n",
              "  @keyframes spin {\n",
              "    0% {\n",
              "      border-color: transparent;\n",
              "      border-bottom-color: var(--fill-color);\n",
              "      border-left-color: var(--fill-color);\n",
              "    }\n",
              "    20% {\n",
              "      border-color: transparent;\n",
              "      border-left-color: var(--fill-color);\n",
              "      border-top-color: var(--fill-color);\n",
              "    }\n",
              "    30% {\n",
              "      border-color: transparent;\n",
              "      border-left-color: var(--fill-color);\n",
              "      border-top-color: var(--fill-color);\n",
              "      border-right-color: var(--fill-color);\n",
              "    }\n",
              "    40% {\n",
              "      border-color: transparent;\n",
              "      border-right-color: var(--fill-color);\n",
              "      border-top-color: var(--fill-color);\n",
              "    }\n",
              "    60% {\n",
              "      border-color: transparent;\n",
              "      border-right-color: var(--fill-color);\n",
              "    }\n",
              "    80% {\n",
              "      border-color: transparent;\n",
              "      border-right-color: var(--fill-color);\n",
              "      border-bottom-color: var(--fill-color);\n",
              "    }\n",
              "    90% {\n",
              "      border-color: transparent;\n",
              "      border-bottom-color: var(--fill-color);\n",
              "    }\n",
              "  }\n",
              "</style>\n",
              "\n",
              "  <script>\n",
              "    async function quickchart(key) {\n",
              "      const quickchartButtonEl =\n",
              "        document.querySelector('#' + key + ' button');\n",
              "      quickchartButtonEl.disabled = true;  // To prevent multiple clicks.\n",
              "      quickchartButtonEl.classList.add('colab-df-spinner');\n",
              "      try {\n",
              "        const charts = await google.colab.kernel.invokeFunction(\n",
              "            'suggestCharts', [key], {});\n",
              "      } catch (error) {\n",
              "        console.error('Error during call to suggestCharts:', error);\n",
              "      }\n",
              "      quickchartButtonEl.classList.remove('colab-df-spinner');\n",
              "      quickchartButtonEl.classList.add('colab-df-quickchart-complete');\n",
              "    }\n",
              "    (() => {\n",
              "      let quickchartButtonEl =\n",
              "        document.querySelector('#df-1802f2a5-1e17-4f3c-a5f1-4e94e71ef8a1 button');\n",
              "      quickchartButtonEl.style.display =\n",
              "        google.colab.kernel.accessAllowed ? 'block' : 'none';\n",
              "    })();\n",
              "  </script>\n",
              "</div>\n",
              "    </div>\n",
              "  </div>\n"
            ],
            "text/plain": [
              "   x1  x2  y\n",
              "0   0   0  0\n",
              "1   1   0  1\n",
              "2   0   1  1\n",
              "3   1   1  0"
            ]
          },
          "execution_count": 7,
          "metadata": {},
          "output_type": "execute_result"
        }
      ],
      "source": [
        "df"
      ]
    },
    {
      "cell_type": "code",
      "execution_count": 11,
      "metadata": {
        "id": "ntUHF2yJl0Xu"
      },
      "outputs": [],
      "source": [
        "X_train = df[['x1', 'x2']][:2].values\n",
        "X_test = df[['x1', 'x2']][2:].values"
      ]
    },
    {
      "cell_type": "code",
      "execution_count": 12,
      "metadata": {
        "id": "DOnIhyFOl0Xu"
      },
      "outputs": [],
      "source": [
        "y_train = df['y'][:2].values\n",
        "y_test = df['y'][2:].values"
      ]
    },
    {
      "cell_type": "markdown",
      "metadata": {
        "id": "8TrnqYRml0Xu"
      },
      "source": [
        "### Construindo a rede neural\n",
        "\n",
        "#### Inicializando a ann"
      ]
    },
    {
      "cell_type": "code",
      "execution_count": 13,
      "metadata": {
        "id": "2mwI1fnnl0Xv"
      },
      "outputs": [],
      "source": [
        "ann = tf.keras.models.Sequential()"
      ]
    },
    {
      "cell_type": "markdown",
      "metadata": {
        "id": "u7BQdr0Cl0Xv"
      },
      "source": [
        "#### Criação das camadas do Perceptron"
      ]
    },
    {
      "cell_type": "code",
      "execution_count": 14,
      "metadata": {
        "id": "-FdbjtS_l0Xv"
      },
      "outputs": [],
      "source": [
        "ann.add(tf.keras.layers.Dense(units=8, activation='relu', input_dim=2))\n",
        "ann.add(tf.keras.layers.Dense(units=4, activation='relu'))\n",
        "ann.add(tf.keras.layers.Dense(units=2, activation='relu'))\n",
        "\n",
        "ann.add(tf.keras.layers.Dense(units=1, activation='sigmoid'))"
      ]
    },
    {
      "cell_type": "markdown",
      "metadata": {
        "id": "PzgMU2xMl0Xv"
      },
      "source": [
        "### Treinamento\n",
        "\n",
        "#### Compilando"
      ]
    },
    {
      "cell_type": "code",
      "execution_count": 15,
      "metadata": {
        "id": "-R3PW6ZTl0Xv"
      },
      "outputs": [],
      "source": [
        "ann.compile(optimizer = 'adam', loss = 'binary_crossentropy', metrics = ['accuracy'])"
      ]
    },
    {
      "cell_type": "markdown",
      "metadata": {
        "id": "_bH9NGXsl0Xv"
      },
      "source": [
        "#### Treinando"
      ]
    },
    {
      "cell_type": "code",
      "execution_count": 19,
      "metadata": {
        "colab": {
          "base_uri": "https://localhost:8080/"
        },
        "id": "fDbaV2XKl0Xv",
        "outputId": "01dde39c-96fc-4f5e-982e-94d37b3de093"
      },
      "outputs": [
        {
          "name": "stdout",
          "output_type": "stream",
          "text": [
            "Epoch 1/10\n",
            "1/1 [==============================] - 0s 21ms/step - loss: 0.6931 - accuracy: 0.5000\n",
            "Epoch 2/10\n",
            "1/1 [==============================] - 0s 15ms/step - loss: 0.6931 - accuracy: 0.5000\n",
            "Epoch 3/10\n",
            "1/1 [==============================] - 0s 28ms/step - loss: 0.6931 - accuracy: 0.5000\n",
            "Epoch 4/10\n",
            "1/1 [==============================] - 0s 19ms/step - loss: 0.6931 - accuracy: 0.5000\n",
            "Epoch 5/10\n",
            "1/1 [==============================] - 0s 16ms/step - loss: 0.6931 - accuracy: 0.5000\n",
            "Epoch 6/10\n",
            "1/1 [==============================] - 0s 16ms/step - loss: 0.6931 - accuracy: 0.5000\n",
            "Epoch 7/10\n",
            "1/1 [==============================] - 0s 13ms/step - loss: 0.6931 - accuracy: 0.5000\n",
            "Epoch 8/10\n",
            "1/1 [==============================] - 0s 18ms/step - loss: 0.6931 - accuracy: 0.5000\n",
            "Epoch 9/10\n",
            "1/1 [==============================] - 0s 16ms/step - loss: 0.6931 - accuracy: 0.5000\n",
            "Epoch 10/10\n",
            "1/1 [==============================] - 0s 14ms/step - loss: 0.6931 - accuracy: 0.5000\n"
          ]
        }
      ],
      "source": [
        "history = ann.fit(X_train, y_train, batch_size = 64, epochs = 10, verbose=1)"
      ]
    },
    {
      "cell_type": "markdown",
      "metadata": {
        "id": "jM0Lw8hul0Xv"
      },
      "source": [
        "#### Previsão"
      ]
    },
    {
      "cell_type": "code",
      "execution_count": 20,
      "metadata": {
        "colab": {
          "base_uri": "https://localhost:8080/"
        },
        "id": "MhVMadnQl0Xw",
        "outputId": "5841d6c7-3187-4844-b1f3-ff6366114944"
      },
      "outputs": [
        {
          "name": "stdout",
          "output_type": "stream",
          "text": [
            "1/1 [==============================] - 0s 19ms/step\n"
          ]
        }
      ],
      "source": [
        "y_pred = ann.predict(X_test)\n",
        "y_pred = (y_pred > 0.5)"
      ]
    },
    {
      "cell_type": "markdown",
      "metadata": {
        "id": "9UGZtOIdl0Xw"
      },
      "source": [
        "#### Matriz de confusão e acurácia"
      ]
    },
    {
      "cell_type": "code",
      "execution_count": 21,
      "metadata": {
        "colab": {
          "base_uri": "https://localhost:8080/"
        },
        "id": "MswcuUnEl0Xw",
        "outputId": "30886145-b833-4655-aa62-cc0b5bbe188b"
      },
      "outputs": [
        {
          "name": "stdout",
          "output_type": "stream",
          "text": [
            "[[1 0]\n",
            " [0 1]]\n"
          ]
        },
        {
          "data": {
            "text/plain": [
              "1.0"
            ]
          },
          "execution_count": 21,
          "metadata": {},
          "output_type": "execute_result"
        }
      ],
      "source": [
        "cm = confusion_matrix(y_test, y_pred)\n",
        "print(cm)\n",
        "accuracy_score(y_test, y_pred)"
      ]
    },
    {
      "cell_type": "markdown",
      "metadata": {
        "id": "OC-lIXDbl0Xw"
      },
      "source": [
        "# b) f(x) = log10(x), onde 1 ≤ x ≤ 10"
      ]
    },
    {
      "cell_type": "code",
      "execution_count": null,
      "metadata": {
        "id": "aNbbZrknl0Xw",
        "outputId": "8852fbe5-5c7a-40fc-8a65-613bb4c93d83"
      },
      "outputs": [
        {
          "data": {
            "text/plain": [
              "(2000, 2)"
            ]
          },
          "execution_count": 183,
          "metadata": {},
          "output_type": "execute_result"
        }
      ],
      "source": [
        "df = generate_data_b(2000)\n",
        "df.shape"
      ]
    },
    {
      "cell_type": "code",
      "execution_count": null,
      "metadata": {
        "id": "c0XBwveGl0Xw",
        "outputId": "d2722997-a998-4ea2-c834-f37c3788c901"
      },
      "outputs": [
        {
          "data": {
            "text/html": [
              "<div>\n",
              "<style scoped>\n",
              "    .dataframe tbody tr th:only-of-type {\n",
              "        vertical-align: middle;\n",
              "    }\n",
              "\n",
              "    .dataframe tbody tr th {\n",
              "        vertical-align: top;\n",
              "    }\n",
              "\n",
              "    .dataframe thead th {\n",
              "        text-align: right;\n",
              "    }\n",
              "</style>\n",
              "<table border=\"1\" class=\"dataframe\">\n",
              "  <thead>\n",
              "    <tr style=\"text-align: right;\">\n",
              "      <th></th>\n",
              "      <th>x</th>\n",
              "      <th>y</th>\n",
              "    </tr>\n",
              "  </thead>\n",
              "  <tbody>\n",
              "    <tr>\n",
              "      <th>0</th>\n",
              "      <td>7.965604</td>\n",
              "      <td>0.901219</td>\n",
              "    </tr>\n",
              "    <tr>\n",
              "      <th>1</th>\n",
              "      <td>4.949906</td>\n",
              "      <td>0.694597</td>\n",
              "    </tr>\n",
              "    <tr>\n",
              "      <th>2</th>\n",
              "      <td>8.727381</td>\n",
              "      <td>0.940884</td>\n",
              "    </tr>\n",
              "    <tr>\n",
              "      <th>3</th>\n",
              "      <td>7.276312</td>\n",
              "      <td>0.861911</td>\n",
              "    </tr>\n",
              "    <tr>\n",
              "      <th>4</th>\n",
              "      <td>1.847596</td>\n",
              "      <td>0.266607</td>\n",
              "    </tr>\n",
              "  </tbody>\n",
              "</table>\n",
              "</div>"
            ],
            "text/plain": [
              "          x         y\n",
              "0  7.965604  0.901219\n",
              "1  4.949906  0.694597\n",
              "2  8.727381  0.940884\n",
              "3  7.276312  0.861911\n",
              "4  1.847596  0.266607"
            ]
          },
          "execution_count": 184,
          "metadata": {},
          "output_type": "execute_result"
        }
      ],
      "source": [
        "df.head()"
      ]
    },
    {
      "cell_type": "code",
      "execution_count": null,
      "metadata": {
        "id": "nIZWhUNRl0Xw"
      },
      "outputs": [],
      "source": [
        "X = df['x']\n",
        "y = df['y']"
      ]
    },
    {
      "cell_type": "code",
      "execution_count": null,
      "metadata": {
        "id": "I10-cq1gl0Xx"
      },
      "outputs": [],
      "source": [
        "X_train, X_test, y_train, y_test = train_test_split(X, y, test_size = 0.2)"
      ]
    },
    {
      "cell_type": "code",
      "execution_count": null,
      "metadata": {
        "id": "WK8OZLpll0Xx"
      },
      "outputs": [],
      "source": [
        "#Inicializando a Rede Neural\n",
        "ann = Sequential()\n",
        "#Adicionando as Camadas\n",
        "ann.add(Dense(15, input_shape=(1,), activation='relu'))\n",
        "ann.add(Dense(8, activation='relu'))\n",
        "ann.add(Dense(5, activation='relu'))\n",
        "ann.add(Dense(1))"
      ]
    },
    {
      "cell_type": "code",
      "execution_count": null,
      "metadata": {
        "id": "g7Ha-yY5l0Xx",
        "outputId": "fd2c0822-860a-43b3-f09b-b769bda0198e"
      },
      "outputs": [
        {
          "name": "stdout",
          "output_type": "stream",
          "text": [
            "Epoch 1/100\n",
            "20/20 - 0s - loss: 0.3362 - mean_squared_error: 0.1313 - val_loss: 0.2062 - val_mean_squared_error: 0.0460\n",
            "Epoch 2/100\n",
            "20/20 - 0s - loss: 0.1069 - mean_squared_error: 0.0159 - val_loss: 0.0752 - val_mean_squared_error: 0.0098\n",
            "Epoch 3/100\n",
            "20/20 - 0s - loss: 0.0730 - mean_squared_error: 0.0091 - val_loss: 0.0628 - val_mean_squared_error: 0.0054\n",
            "Epoch 4/100\n",
            "20/20 - 0s - loss: 0.0650 - mean_squared_error: 0.0054 - val_loss: 0.0603 - val_mean_squared_error: 0.0049\n",
            "Epoch 5/100\n",
            "20/20 - 0s - loss: 0.0620 - mean_squared_error: 0.0052 - val_loss: 0.0583 - val_mean_squared_error: 0.0048\n",
            "Epoch 6/100\n",
            "20/20 - 0s - loss: 0.0598 - mean_squared_error: 0.0050 - val_loss: 0.0555 - val_mean_squared_error: 0.0043\n",
            "Epoch 7/100\n",
            "20/20 - 0s - loss: 0.0583 - mean_squared_error: 0.0048 - val_loss: 0.0536 - val_mean_squared_error: 0.0042\n",
            "Epoch 8/100\n",
            "20/20 - 0s - loss: 0.0568 - mean_squared_error: 0.0048 - val_loss: 0.0518 - val_mean_squared_error: 0.0040\n",
            "Epoch 9/100\n",
            "20/20 - 0s - loss: 0.0555 - mean_squared_error: 0.0047 - val_loss: 0.0506 - val_mean_squared_error: 0.0040\n",
            "Epoch 10/100\n",
            "20/20 - 0s - loss: 0.0545 - mean_squared_error: 0.0048 - val_loss: 0.0497 - val_mean_squared_error: 0.0038\n",
            "Epoch 11/100\n",
            "20/20 - 0s - loss: 0.0537 - mean_squared_error: 0.0048 - val_loss: 0.0484 - val_mean_squared_error: 0.0039\n",
            "Epoch 12/100\n",
            "20/20 - 0s - loss: 0.0529 - mean_squared_error: 0.0048 - val_loss: 0.0477 - val_mean_squared_error: 0.0039\n",
            "Epoch 13/100\n",
            "20/20 - 0s - loss: 0.0524 - mean_squared_error: 0.0049 - val_loss: 0.0468 - val_mean_squared_error: 0.0039\n",
            "Epoch 14/100\n",
            "20/20 - 0s - loss: 0.0523 - mean_squared_error: 0.0051 - val_loss: 0.0462 - val_mean_squared_error: 0.0039\n",
            "Epoch 15/100\n",
            "20/20 - 0s - loss: 0.0514 - mean_squared_error: 0.0051 - val_loss: 0.0456 - val_mean_squared_error: 0.0040\n",
            "Epoch 16/100\n",
            "20/20 - 0s - loss: 0.0509 - mean_squared_error: 0.0051 - val_loss: 0.0450 - val_mean_squared_error: 0.0040\n",
            "Epoch 17/100\n",
            "20/20 - 0s - loss: 0.0501 - mean_squared_error: 0.0052 - val_loss: 0.0442 - val_mean_squared_error: 0.0040\n",
            "Epoch 18/100\n",
            "20/20 - 0s - loss: 0.0495 - mean_squared_error: 0.0052 - val_loss: 0.0433 - val_mean_squared_error: 0.0040\n",
            "Epoch 19/100\n",
            "20/20 - 0s - loss: 0.0486 - mean_squared_error: 0.0053 - val_loss: 0.0420 - val_mean_squared_error: 0.0039\n",
            "Epoch 20/100\n",
            "20/20 - 0s - loss: 0.0472 - mean_squared_error: 0.0051 - val_loss: 0.0409 - val_mean_squared_error: 0.0039\n",
            "Epoch 21/100\n",
            "20/20 - 0s - loss: 0.0459 - mean_squared_error: 0.0051 - val_loss: 0.0394 - val_mean_squared_error: 0.0038\n",
            "Epoch 22/100\n",
            "20/20 - 0s - loss: 0.0443 - mean_squared_error: 0.0050 - val_loss: 0.0379 - val_mean_squared_error: 0.0037\n",
            "Epoch 23/100\n",
            "20/20 - 0s - loss: 0.0426 - mean_squared_error: 0.0048 - val_loss: 0.0364 - val_mean_squared_error: 0.0036\n",
            "Epoch 24/100\n",
            "20/20 - 0s - loss: 0.0407 - mean_squared_error: 0.0047 - val_loss: 0.0342 - val_mean_squared_error: 0.0034\n",
            "Epoch 25/100\n",
            "20/20 - 0s - loss: 0.0386 - mean_squared_error: 0.0045 - val_loss: 0.0320 - val_mean_squared_error: 0.0032\n",
            "Epoch 26/100\n",
            "20/20 - 0s - loss: 0.0362 - mean_squared_error: 0.0043 - val_loss: 0.0296 - val_mean_squared_error: 0.0030\n",
            "Epoch 27/100\n",
            "20/20 - 0s - loss: 0.0335 - mean_squared_error: 0.0040 - val_loss: 0.0274 - val_mean_squared_error: 0.0029\n",
            "Epoch 28/100\n",
            "20/20 - 0s - loss: 0.0311 - mean_squared_error: 0.0038 - val_loss: 0.0252 - val_mean_squared_error: 0.0025\n",
            "Epoch 29/100\n",
            "20/20 - 0s - loss: 0.0286 - mean_squared_error: 0.0034 - val_loss: 0.0229 - val_mean_squared_error: 0.0023\n",
            "Epoch 30/100\n",
            "20/20 - 0s - loss: 0.0265 - mean_squared_error: 0.0031 - val_loss: 0.0225 - val_mean_squared_error: 0.0020\n",
            "Epoch 31/100\n",
            "20/20 - 0s - loss: 0.0249 - mean_squared_error: 0.0028 - val_loss: 0.0199 - val_mean_squared_error: 0.0018\n",
            "Epoch 32/100\n",
            "20/20 - 0s - loss: 0.0242 - mean_squared_error: 0.0025 - val_loss: 0.0203 - val_mean_squared_error: 0.0016\n",
            "Epoch 33/100\n",
            "20/20 - 0s - loss: 0.0227 - mean_squared_error: 0.0022 - val_loss: 0.0182 - val_mean_squared_error: 0.0015\n",
            "Epoch 34/100\n",
            "20/20 - 0s - loss: 0.0214 - mean_squared_error: 0.0020 - val_loss: 0.0177 - val_mean_squared_error: 0.0014\n",
            "Epoch 35/100\n",
            "20/20 - 0s - loss: 0.0213 - mean_squared_error: 0.0019 - val_loss: 0.0171 - val_mean_squared_error: 0.0012\n",
            "Epoch 36/100\n",
            "20/20 - 0s - loss: 0.0199 - mean_squared_error: 0.0017 - val_loss: 0.0167 - val_mean_squared_error: 0.0011\n",
            "Epoch 37/100\n",
            "20/20 - 0s - loss: 0.0192 - mean_squared_error: 0.0015 - val_loss: 0.0162 - val_mean_squared_error: 0.0010\n",
            "Epoch 38/100\n",
            "20/20 - 0s - loss: 0.0188 - mean_squared_error: 0.0014 - val_loss: 0.0160 - val_mean_squared_error: 9.1829e-04\n",
            "Epoch 39/100\n",
            "20/20 - 0s - loss: 0.0182 - mean_squared_error: 0.0013 - val_loss: 0.0157 - val_mean_squared_error: 8.9416e-04\n",
            "Epoch 40/100\n",
            "20/20 - 0s - loss: 0.0179 - mean_squared_error: 0.0012 - val_loss: 0.0154 - val_mean_squared_error: 8.0350e-04\n",
            "Epoch 41/100\n",
            "20/20 - 0s - loss: 0.0174 - mean_squared_error: 0.0011 - val_loss: 0.0150 - val_mean_squared_error: 7.6541e-04\n",
            "Epoch 42/100\n",
            "20/20 - 0s - loss: 0.0171 - mean_squared_error: 0.0011 - val_loss: 0.0150 - val_mean_squared_error: 7.5216e-04\n",
            "Epoch 43/100\n",
            "20/20 - 0s - loss: 0.0172 - mean_squared_error: 0.0010 - val_loss: 0.0145 - val_mean_squared_error: 6.9780e-04\n",
            "Epoch 44/100\n",
            "20/20 - 0s - loss: 0.0167 - mean_squared_error: 9.6690e-04 - val_loss: 0.0141 - val_mean_squared_error: 6.6504e-04\n",
            "Epoch 45/100\n",
            "20/20 - 0s - loss: 0.0163 - mean_squared_error: 9.1264e-04 - val_loss: 0.0146 - val_mean_squared_error: 6.1983e-04\n",
            "Epoch 46/100\n",
            "20/20 - 0s - loss: 0.0164 - mean_squared_error: 8.5255e-04 - val_loss: 0.0145 - val_mean_squared_error: 6.2158e-04\n",
            "Epoch 47/100\n",
            "20/20 - 0s - loss: 0.0164 - mean_squared_error: 8.6166e-04 - val_loss: 0.0137 - val_mean_squared_error: 5.9225e-04\n",
            "Epoch 48/100\n",
            "20/20 - 0s - loss: 0.0159 - mean_squared_error: 8.1708e-04 - val_loss: 0.0137 - val_mean_squared_error: 5.5434e-04\n",
            "Epoch 49/100\n",
            "20/20 - 0s - loss: 0.0158 - mean_squared_error: 7.6800e-04 - val_loss: 0.0137 - val_mean_squared_error: 5.2971e-04\n",
            "Epoch 50/100\n",
            "20/20 - 0s - loss: 0.0157 - mean_squared_error: 7.5861e-04 - val_loss: 0.0145 - val_mean_squared_error: 5.3688e-04\n",
            "Epoch 51/100\n",
            "20/20 - 0s - loss: 0.0157 - mean_squared_error: 7.1592e-04 - val_loss: 0.0140 - val_mean_squared_error: 5.0063e-04\n",
            "Epoch 52/100\n",
            "20/20 - 0s - loss: 0.0159 - mean_squared_error: 7.1669e-04 - val_loss: 0.0131 - val_mean_squared_error: 4.8761e-04\n",
            "Epoch 53/100\n",
            "20/20 - 0s - loss: 0.0159 - mean_squared_error: 6.8015e-04 - val_loss: 0.0131 - val_mean_squared_error: 4.8660e-04\n",
            "Epoch 54/100\n",
            "20/20 - 0s - loss: 0.0154 - mean_squared_error: 6.5742e-04 - val_loss: 0.0135 - val_mean_squared_error: 4.5778e-04\n",
            "Epoch 55/100\n",
            "20/20 - 0s - loss: 0.0154 - mean_squared_error: 6.4275e-04 - val_loss: 0.0130 - val_mean_squared_error: 4.5384e-04\n",
            "Epoch 56/100\n",
            "20/20 - 0s - loss: 0.0156 - mean_squared_error: 6.4593e-04 - val_loss: 0.0140 - val_mean_squared_error: 5.1554e-04\n",
            "Epoch 57/100\n",
            "20/20 - 0s - loss: 0.0157 - mean_squared_error: 6.1217e-04 - val_loss: 0.0129 - val_mean_squared_error: 4.3880e-04\n",
            "Epoch 58/100\n",
            "20/20 - 0s - loss: 0.0154 - mean_squared_error: 6.1080e-04 - val_loss: 0.0133 - val_mean_squared_error: 4.2297e-04\n",
            "Epoch 59/100\n",
            "20/20 - 0s - loss: 0.0150 - mean_squared_error: 6.0027e-04 - val_loss: 0.0134 - val_mean_squared_error: 4.1265e-04\n",
            "Epoch 60/100\n",
            "20/20 - 0s - loss: 0.0151 - mean_squared_error: 5.7694e-04 - val_loss: 0.0129 - val_mean_squared_error: 4.0690e-04\n",
            "Epoch 61/100\n",
            "20/20 - 0s - loss: 0.0148 - mean_squared_error: 5.5453e-04 - val_loss: 0.0128 - val_mean_squared_error: 3.9868e-04\n",
            "Epoch 62/100\n",
            "20/20 - 0s - loss: 0.0150 - mean_squared_error: 5.5497e-04 - val_loss: 0.0140 - val_mean_squared_error: 4.5778e-04\n",
            "Epoch 63/100\n",
            "20/20 - 0s - loss: 0.0156 - mean_squared_error: 5.5936e-04 - val_loss: 0.0133 - val_mean_squared_error: 4.1961e-04\n",
            "Epoch 64/100\n",
            "20/20 - 0s - loss: 0.0149 - mean_squared_error: 5.3841e-04 - val_loss: 0.0130 - val_mean_squared_error: 3.7858e-04\n",
            "Epoch 65/100\n",
            "20/20 - 0s - loss: 0.0149 - mean_squared_error: 5.1106e-04 - val_loss: 0.0141 - val_mean_squared_error: 3.9374e-04\n",
            "Epoch 66/100\n",
            "20/20 - 0s - loss: 0.0151 - mean_squared_error: 5.6304e-04 - val_loss: 0.0133 - val_mean_squared_error: 3.6850e-04\n",
            "Epoch 67/100\n",
            "20/20 - 0s - loss: 0.0150 - mean_squared_error: 4.9549e-04 - val_loss: 0.0131 - val_mean_squared_error: 3.6792e-04\n"
          ]
        },
        {
          "name": "stdout",
          "output_type": "stream",
          "text": [
            "Epoch 68/100\n",
            "20/20 - 0s - loss: 0.0147 - mean_squared_error: 5.1168e-04 - val_loss: 0.0130 - val_mean_squared_error: 3.7378e-04\n",
            "Epoch 69/100\n",
            "20/20 - 0s - loss: 0.0152 - mean_squared_error: 5.2502e-04 - val_loss: 0.0131 - val_mean_squared_error: 3.7657e-04\n",
            "Epoch 70/100\n",
            "20/20 - 0s - loss: 0.0150 - mean_squared_error: 5.1475e-04 - val_loss: 0.0133 - val_mean_squared_error: 3.6800e-04\n",
            "Epoch 71/100\n",
            "20/20 - 0s - loss: 0.0149 - mean_squared_error: 4.9480e-04 - val_loss: 0.0132 - val_mean_squared_error: 3.6297e-04\n",
            "Epoch 72/100\n",
            "20/20 - 0s - loss: 0.0153 - mean_squared_error: 5.0755e-04 - val_loss: 0.0131 - val_mean_squared_error: 3.6441e-04\n",
            "Epoch 73/100\n",
            "20/20 - 0s - loss: 0.0147 - mean_squared_error: 4.9377e-04 - val_loss: 0.0134 - val_mean_squared_error: 3.6507e-04\n",
            "Epoch 74/100\n",
            "20/20 - 0s - loss: 0.0148 - mean_squared_error: 4.7878e-04 - val_loss: 0.0136 - val_mean_squared_error: 3.6055e-04\n",
            "Epoch 75/100\n",
            "20/20 - 0s - loss: 0.0149 - mean_squared_error: 4.9452e-04 - val_loss: 0.0134 - val_mean_squared_error: 3.5918e-04\n",
            "Epoch 76/100\n",
            "20/20 - 0s - loss: 0.0147 - mean_squared_error: 4.7891e-04 - val_loss: 0.0134 - val_mean_squared_error: 3.7656e-04\n",
            "Epoch 77/100\n",
            "20/20 - 0s - loss: 0.0155 - mean_squared_error: 5.0885e-04 - val_loss: 0.0133 - val_mean_squared_error: 3.6983e-04\n",
            "Epoch 78/100\n",
            "20/20 - 0s - loss: 0.0150 - mean_squared_error: 4.7983e-04 - val_loss: 0.0134 - val_mean_squared_error: 3.5206e-04\n",
            "Epoch 79/100\n",
            "20/20 - 0s - loss: 0.0148 - mean_squared_error: 4.6524e-04 - val_loss: 0.0134 - val_mean_squared_error: 3.8860e-04\n",
            "Epoch 80/100\n",
            "20/20 - 0s - loss: 0.0149 - mean_squared_error: 4.6953e-04 - val_loss: 0.0133 - val_mean_squared_error: 3.5704e-04\n",
            "Epoch 81/100\n",
            "20/20 - 0s - loss: 0.0148 - mean_squared_error: 4.6639e-04 - val_loss: 0.0144 - val_mean_squared_error: 4.4401e-04\n",
            "Epoch 82/100\n",
            "20/20 - 0s - loss: 0.0149 - mean_squared_error: 4.7489e-04 - val_loss: 0.0134 - val_mean_squared_error: 3.5251e-04\n",
            "Epoch 83/100\n",
            "20/20 - 0s - loss: 0.0151 - mean_squared_error: 4.6607e-04 - val_loss: 0.0134 - val_mean_squared_error: 3.6413e-04\n",
            "Epoch 84/100\n",
            "20/20 - 0s - loss: 0.0149 - mean_squared_error: 4.7175e-04 - val_loss: 0.0136 - val_mean_squared_error: 3.5074e-04\n",
            "Epoch 85/100\n",
            "20/20 - 0s - loss: 0.0148 - mean_squared_error: 4.4971e-04 - val_loss: 0.0134 - val_mean_squared_error: 3.6961e-04\n",
            "Epoch 86/100\n",
            "20/20 - 0s - loss: 0.0147 - mean_squared_error: 4.6004e-04 - val_loss: 0.0135 - val_mean_squared_error: 3.5419e-04\n",
            "Epoch 87/100\n",
            "20/20 - 0s - loss: 0.0147 - mean_squared_error: 4.5686e-04 - val_loss: 0.0136 - val_mean_squared_error: 3.9072e-04\n",
            "Epoch 88/100\n",
            "20/20 - 0s - loss: 0.0148 - mean_squared_error: 4.6041e-04 - val_loss: 0.0139 - val_mean_squared_error: 3.5497e-04\n",
            "Epoch 89/100\n",
            "20/20 - 0s - loss: 0.0148 - mean_squared_error: 4.4073e-04 - val_loss: 0.0135 - val_mean_squared_error: 3.4888e-04\n",
            "Epoch 90/100\n",
            "20/20 - 0s - loss: 0.0148 - mean_squared_error: 4.4766e-04 - val_loss: 0.0135 - val_mean_squared_error: 3.7096e-04\n",
            "Epoch 91/100\n",
            "20/20 - 0s - loss: 0.0146 - mean_squared_error: 4.6191e-04 - val_loss: 0.0138 - val_mean_squared_error: 3.6111e-04\n",
            "Epoch 92/100\n",
            "20/20 - 0s - loss: 0.0148 - mean_squared_error: 4.4687e-04 - val_loss: 0.0138 - val_mean_squared_error: 3.8946e-04\n",
            "Epoch 93/100\n",
            "20/20 - 0s - loss: 0.0150 - mean_squared_error: 4.6281e-04 - val_loss: 0.0135 - val_mean_squared_error: 3.5424e-04\n",
            "Epoch 94/100\n",
            "20/20 - 0s - loss: 0.0148 - mean_squared_error: 4.4606e-04 - val_loss: 0.0137 - val_mean_squared_error: 3.9005e-04\n",
            "Epoch 95/100\n",
            "20/20 - 0s - loss: 0.0149 - mean_squared_error: 4.4752e-04 - val_loss: 0.0139 - val_mean_squared_error: 3.8882e-04\n",
            "Epoch 96/100\n",
            "20/20 - 0s - loss: 0.0146 - mean_squared_error: 4.3475e-04 - val_loss: 0.0140 - val_mean_squared_error: 3.5282e-04\n",
            "Epoch 97/100\n",
            "20/20 - 0s - loss: 0.0147 - mean_squared_error: 4.5089e-04 - val_loss: 0.0136 - val_mean_squared_error: 3.7462e-04\n",
            "Epoch 98/100\n",
            "20/20 - 0s - loss: 0.0146 - mean_squared_error: 4.2783e-04 - val_loss: 0.0142 - val_mean_squared_error: 4.1250e-04\n",
            "Epoch 99/100\n",
            "20/20 - 0s - loss: 0.0147 - mean_squared_error: 4.5799e-04 - val_loss: 0.0136 - val_mean_squared_error: 3.6304e-04\n",
            "Epoch 100/100\n",
            "20/20 - 0s - loss: 0.0146 - mean_squared_error: 4.3155e-04 - val_loss: 0.0136 - val_mean_squared_error: 3.6257e-04\n"
          ]
        }
      ],
      "source": [
        "ann.compile(optimizer='adam', loss='mean_absolute_error', metrics=['mean_squared_error'])\n",
        "history = ann.fit(X_train, y_train, epochs=100, batch_size=64, validation_split=0.2, verbose=2)"
      ]
    },
    {
      "cell_type": "markdown",
      "metadata": {
        "id": "E1YO2RRkl0Xx"
      },
      "source": [
        "### Plotando o Gráfico da função de Custo(Loss)\n"
      ]
    },
    {
      "cell_type": "code",
      "execution_count": null,
      "metadata": {
        "id": "MVUodbkOl0Xx",
        "outputId": "ea8eb28e-9bb4-483d-e0ef-f83ce26d6154"
      },
      "outputs": [
        {
          "data": {
            "text/plain": [
              "<matplotlib.legend.Legend at 0x1d4fdcc96d0>"
            ]
          },
          "execution_count": 189,
          "metadata": {},
          "output_type": "execute_result"
        },
        {
          "data": {
            "image/png": "[encoded data removed]",
            "text/plain": [
              "<Figure size 432x288 with 1 Axes>"
            ]
          },
          "metadata": {
            "needs_background": "light"
          },
          "output_type": "display_data"
        }
      ],
      "source": [
        "plt.plot(history.history[\"loss\"], label=\"loss\")\n",
        "plt.plot(history.history[\"val_loss\"], label=\"val_loss\")\n",
        "plt.title('Model Loss')\n",
        "plt.ylabel('loss')\n",
        "plt.xlabel('epochs')\n",
        "plt.legend()"
      ]
    },
    {
      "cell_type": "markdown",
      "metadata": {
        "id": "gQAMGnEZl0Xx"
      },
      "source": [
        "### Plotando o Gráfico do Erro Médio\n"
      ]
    },
    {
      "cell_type": "code",
      "execution_count": null,
      "metadata": {
        "id": "HeM2aIn1l0Xx",
        "outputId": "c758ac68-1c60-4f87-f468-4149588a2ed6"
      },
      "outputs": [
        {
          "data": {
            "text/plain": [
              "<matplotlib.legend.Legend at 0x1d4fbebd580>"
            ]
          },
          "execution_count": 190,
          "metadata": {},
          "output_type": "execute_result"
        },
        {
          "data": {
            "image/png": "[encoded data removed]",
            "text/plain": [
              "<Figure size 432x288 with 1 Axes>"
            ]
          },
          "metadata": {
            "needs_background": "light"
          },
          "output_type": "display_data"
        }
      ],
      "source": [
        "plt.plot(history.history[\"mean_squared_error\"], label=\"mean_squared_error\")\n",
        "plt.plot(history.history[\"val_mean_squared_error\"], label=\"val_mean_squared_error\")\n",
        "plt.title('Erro médio')\n",
        "plt.ylabel('mean_squared_error')\n",
        "plt.xlabel('epochs')\n",
        "plt.legend()"
      ]
    },
    {
      "cell_type": "markdown",
      "metadata": {
        "id": "ctH1dFGxl0Xx"
      },
      "source": [
        "### Predicao e Score"
      ]
    },
    {
      "cell_type": "code",
      "execution_count": null,
      "metadata": {
        "id": "qDpjXebOl0Xx",
        "outputId": "2d133a63-e018-404e-aa50-81cf0db2fa34"
      },
      "outputs": [
        {
          "name": "stdout",
          "output_type": "stream",
          "text": [
            "Score: 99.28%\n"
          ]
        }
      ],
      "source": [
        "y_pred = ann.predict(X_test)\n",
        "print(f'Score: {round(r2_score(y_test, y_pred)*100,2)}%')"
      ]
    },
    {
      "cell_type": "code",
      "execution_count": null,
      "metadata": {
        "id": "3y9TgWywl0Xy",
        "outputId": "a87c63e3-093f-4c72-d296-cd6f9f0ae339"
      },
      "outputs": [
        {
          "data": {
            "image/png": "[encoded data removed]",
            "text/plain": [
              "<Figure size 720x432 with 1 Axes>"
            ]
          },
          "metadata": {
            "needs_background": "light"
          },
          "output_type": "display_data"
        }
      ],
      "source": [
        "plt.figure(figsize=(10, 6))\n",
        "plt.scatter(X_test, y_test, label='Dados reais', s=10)\n",
        "plt.scatter(X_test, y_pred, color='red', label='Predições', s=10)\n",
        "plt.xlabel('x')\n",
        "plt.ylabel('log10(x)')\n",
        "plt.legend()\n",
        "plt.title('Comparação entre dados reais e predições')\n",
        "plt.grid(True)\n"
      ]
    },
    {
      "cell_type": "markdown",
      "metadata": {
        "id": "nvOb7QF2l0Xy"
      },
      "source": [
        "# c) f(x) = $10x^5+ 5x^4+ 2x^3– 0.5x^2+ 3x + 2$, onde 0 ≤ x ≤ 20"
      ]
    },
    {
      "cell_type": "code",
      "execution_count": null,
      "metadata": {
        "id": "HzGCKxZ4l0Xy",
        "outputId": "6d161b37-b668-4380-a98d-91f87f053d92"
      },
      "outputs": [
        {
          "data": {
            "text/plain": [
              "(4000, 2)"
            ]
          },
          "execution_count": 151,
          "metadata": {},
          "output_type": "execute_result"
        }
      ],
      "source": [
        "df = generate_data_c(4000)\n",
        "df.shape"
      ]
    },
    {
      "cell_type": "code",
      "execution_count": null,
      "metadata": {
        "id": "8BY1NO2nl0Xy",
        "outputId": "b75c898d-9766-42f5-b807-6415879699f1"
      },
      "outputs": [
        {
          "data": {
            "text/html": [
              "<div>\n",
              "<style scoped>\n",
              "    .dataframe tbody tr th:only-of-type {\n",
              "        vertical-align: middle;\n",
              "    }\n",
              "\n",
              "    .dataframe tbody tr th {\n",
              "        vertical-align: top;\n",
              "    }\n",
              "\n",
              "    .dataframe thead th {\n",
              "        text-align: right;\n",
              "    }\n",
              "</style>\n",
              "<table border=\"1\" class=\"dataframe\">\n",
              "  <thead>\n",
              "    <tr style=\"text-align: right;\">\n",
              "      <th></th>\n",
              "      <th>x</th>\n",
              "      <th>y</th>\n",
              "    </tr>\n",
              "  </thead>\n",
              "  <tbody>\n",
              "    <tr>\n",
              "      <th>0</th>\n",
              "      <td>15.479121</td>\n",
              "      <td>9.180910e+06</td>\n",
              "    </tr>\n",
              "    <tr>\n",
              "      <th>1</th>\n",
              "      <td>8.777569</td>\n",
              "      <td>5.520627e+05</td>\n",
              "    </tr>\n",
              "    <tr>\n",
              "      <th>2</th>\n",
              "      <td>17.171958</td>\n",
              "      <td>1.537615e+07</td>\n",
              "    </tr>\n",
              "    <tr>\n",
              "      <th>3</th>\n",
              "      <td>13.947361</td>\n",
              "      <td>5.472468e+06</td>\n",
              "    </tr>\n",
              "    <tr>\n",
              "      <th>4</th>\n",
              "      <td>1.883547</td>\n",
              "      <td>3.192472e+02</td>\n",
              "    </tr>\n",
              "    <tr>\n",
              "      <th>...</th>\n",
              "      <td>...</td>\n",
              "      <td>...</td>\n",
              "    </tr>\n",
              "    <tr>\n",
              "      <th>3995</th>\n",
              "      <td>0.282531</td>\n",
              "      <td>2.902650e+00</td>\n",
              "    </tr>\n",
              "    <tr>\n",
              "      <th>3996</th>\n",
              "      <td>1.904672</td>\n",
              "      <td>3.361927e+02</td>\n",
              "    </tr>\n",
              "    <tr>\n",
              "      <th>3997</th>\n",
              "      <td>9.063839</td>\n",
              "      <td>6.469546e+05</td>\n",
              "    </tr>\n",
              "    <tr>\n",
              "      <th>3998</th>\n",
              "      <td>6.793249</td>\n",
              "      <td>1.559477e+05</td>\n",
              "    </tr>\n",
              "    <tr>\n",
              "      <th>3999</th>\n",
              "      <td>3.607074</td>\n",
              "      <td>7.052871e+03</td>\n",
              "    </tr>\n",
              "  </tbody>\n",
              "</table>\n",
              "<p>4000 rows × 2 columns</p>\n",
              "</div>"
            ],
            "text/plain": [
              "              x             y\n",
              "0     15.479121  9.180910e+06\n",
              "1      8.777569  5.520627e+05\n",
              "2     17.171958  1.537615e+07\n",
              "3     13.947361  5.472468e+06\n",
              "4      1.883547  3.192472e+02\n",
              "...         ...           ...\n",
              "3995   0.282531  2.902650e+00\n",
              "3996   1.904672  3.361927e+02\n",
              "3997   9.063839  6.469546e+05\n",
              "3998   6.793249  1.559477e+05\n",
              "3999   3.607074  7.052871e+03\n",
              "\n",
              "[4000 rows x 2 columns]"
            ]
          },
          "execution_count": 152,
          "metadata": {},
          "output_type": "execute_result"
        }
      ],
      "source": [
        "df"
      ]
    },
    {
      "cell_type": "code",
      "execution_count": null,
      "metadata": {
        "id": "Jc8eRrfnl0Xy"
      },
      "outputs": [],
      "source": [
        "df.head()\n",
        "X = df['x']\n",
        "y = df['y']"
      ]
    },
    {
      "cell_type": "code",
      "execution_count": null,
      "metadata": {
        "id": "IVTcdzVBl0Xz"
      },
      "outputs": [],
      "source": [
        "X_train, X_test, y_train, y_test = train_test_split(X, y, test_size = 0.2)"
      ]
    },
    {
      "cell_type": "code",
      "execution_count": null,
      "metadata": {
        "id": "ZrhFoHZBl0Xz"
      },
      "outputs": [],
      "source": [
        "ann = Sequential()\n",
        "ann.add(Dense(64, input_shape=(1,), activation='relu'))\n",
        "ann.add(Dense(32, activation='relu'))\n",
        "ann.add(Dense(16, activation='relu'))\n",
        "ann.add(Dense(16, activation='relu'))\n",
        "ann.add(Dense(12, activation='relu'))\n",
        "ann.add(Dense(8, activation='relu'))\n",
        "ann.add(Dense(1))"
      ]
    },
    {
      "cell_type": "code",
      "execution_count": null,
      "metadata": {
        "id": "mLXAzIuol0X0",
        "outputId": "6deca5e7-2204-4368-a635-7b7bed3a78a3"
      },
      "outputs": [
        {
          "name": "stdout",
          "output_type": "stream",
          "text": [
            "Epoch 1/100\n",
            "40/40 - 1s - loss: 5466021.5000 - mean_squared_error: 99539910393856.0000 - val_loss: 5884024.0000 - val_mean_squared_error: 109074821677056.0000\n",
            "Epoch 2/100\n",
            "40/40 - 0s - loss: 5465990.0000 - mean_squared_error: 99539289636864.0000 - val_loss: 5883930.0000 - val_mean_squared_error: 109072976183296.0000\n",
            "Epoch 3/100\n",
            "40/40 - 0s - loss: 5465630.0000 - mean_squared_error: 99532427755520.0000 - val_loss: 5882981.5000 - val_mean_squared_error: 109054294753280.0000\n",
            "Epoch 4/100\n",
            "40/40 - 0s - loss: 5462815.5000 - mean_squared_error: 99479000711168.0000 - val_loss: 5876473.0000 - val_mean_squared_error: 108922811711488.0000\n",
            "Epoch 5/100\n",
            "40/40 - 0s - loss: 5447659.0000 - mean_squared_error: 99177455419392.0000 - val_loss: 5845395.5000 - val_mean_squared_error: 108266856120320.0000\n",
            "Epoch 6/100\n",
            "40/40 - 0s - loss: 5390319.5000 - mean_squared_error: 97943457628160.0000 - val_loss: 5739909.0000 - val_mean_squared_error: 105851817820160.0000\n",
            "Epoch 7/100\n",
            "40/40 - 0s - loss: 5228633.0000 - mean_squared_error: 93946520797184.0000 - val_loss: 5475386.5000 - val_mean_squared_error: 99037332111360.0000\n",
            "Epoch 8/100\n",
            "40/40 - 0s - loss: 4901923.5000 - mean_squared_error: 84370824101888.0000 - val_loss: 5023871.0000 - val_mean_squared_error: 84851885604864.0000\n",
            "Epoch 9/100\n",
            "40/40 - 0s - loss: 4505527.0000 - mean_squared_error: 68608789053440.0000 - val_loss: 4568124.5000 - val_mean_squared_error: 65646687682560.0000\n",
            "Epoch 10/100\n",
            "40/40 - 0s - loss: 4257315.0000 - mean_squared_error: 53184441614336.0000 - val_loss: 4408569.0000 - val_mean_squared_error: 54206807408640.0000\n",
            "Epoch 11/100\n",
            "40/40 - 0s - loss: 4196251.5000 - mean_squared_error: 47278291156992.0000 - val_loss: 4371042.5000 - val_mean_squared_error: 50988752830464.0000\n",
            "Epoch 12/100\n",
            "40/40 - 0s - loss: 4179171.5000 - mean_squared_error: 46632305426432.0000 - val_loss: 4353627.0000 - val_mean_squared_error: 50254778990592.0000\n",
            "Epoch 13/100\n",
            "40/40 - 0s - loss: 4164318.5000 - mean_squared_error: 44102108315648.0000 - val_loss: 4333918.5000 - val_mean_squared_error: 48732615737344.0000\n",
            "Epoch 14/100\n",
            "40/40 - 0s - loss: 4153442.5000 - mean_squared_error: 45706962272256.0000 - val_loss: 4326483.0000 - val_mean_squared_error: 49528614944768.0000\n",
            "Epoch 15/100\n",
            "40/40 - 0s - loss: 4138454.5000 - mean_squared_error: 44079110946816.0000 - val_loss: 4310438.5000 - val_mean_squared_error: 48286144659456.0000\n",
            "Epoch 16/100\n",
            "40/40 - 0s - loss: 4128100.0000 - mean_squared_error: 44435534512128.0000 - val_loss: 4302055.5000 - val_mean_squared_error: 48704509706240.0000\n",
            "Epoch 17/100\n",
            "40/40 - 0s - loss: 4117654.7500 - mean_squared_error: 43407397355520.0000 - val_loss: 4290016.0000 - val_mean_squared_error: 48156658106368.0000\n",
            "Epoch 18/100\n",
            "40/40 - 0s - loss: 4107613.2500 - mean_squared_error: 43864610045952.0000 - val_loss: 4284352.0000 - val_mean_squared_error: 48933468372992.0000\n",
            "Epoch 19/100\n",
            "40/40 - 0s - loss: 4096242.0000 - mean_squared_error: 44041844555776.0000 - val_loss: 4271144.5000 - val_mean_squared_error: 48062974132224.0000\n",
            "Epoch 20/100\n",
            "40/40 - 0s - loss: 4088143.5000 - mean_squared_error: 43579057635328.0000 - val_loss: 4261574.0000 - val_mean_squared_error: 47945013526528.0000\n",
            "Epoch 21/100\n",
            "40/40 - 0s - loss: 4078983.5000 - mean_squared_error: 43410098487296.0000 - val_loss: 4254199.0000 - val_mean_squared_error: 48258965569536.0000\n",
            "Epoch 22/100\n",
            "40/40 - 0s - loss: 4067811.5000 - mean_squared_error: 42963052789760.0000 - val_loss: 4240560.0000 - val_mean_squared_error: 47293071884288.0000\n",
            "Epoch 23/100\n",
            "40/40 - 0s - loss: 4057290.5000 - mean_squared_error: 42607589720064.0000 - val_loss: 4231679.0000 - val_mean_squared_error: 47366707085312.0000\n",
            "Epoch 24/100\n",
            "40/40 - 0s - loss: 4047307.5000 - mean_squared_error: 42830407925760.0000 - val_loss: 4221804.0000 - val_mean_squared_error: 47195701116928.0000\n",
            "Epoch 25/100\n",
            "40/40 - 0s - loss: 4038118.0000 - mean_squared_error: 43085308362752.0000 - val_loss: 4214970.0000 - val_mean_squared_error: 47629517979648.0000\n",
            "Epoch 26/100\n",
            "40/40 - 0s - loss: 4025689.2500 - mean_squared_error: 42398231035904.0000 - val_loss: 4199919.0000 - val_mean_squared_error: 46296270372864.0000\n",
            "Epoch 27/100\n",
            "40/40 - 0s - loss: 4015581.2500 - mean_squared_error: 41669785288704.0000 - val_loss: 4189194.0000 - val_mean_squared_error: 46078313365504.0000\n",
            "Epoch 28/100\n",
            "40/40 - 0s - loss: 4005694.7500 - mean_squared_error: 41668187258880.0000 - val_loss: 4177544.7500 - val_mean_squared_error: 45682685640704.0000\n",
            "Epoch 29/100\n",
            "40/40 - 0s - loss: 3993850.5000 - mean_squared_error: 41218734030848.0000 - val_loss: 4165726.5000 - val_mean_squared_error: 45322613030912.0000\n",
            "Epoch 30/100\n",
            "40/40 - 0s - loss: 3981899.5000 - mean_squared_error: 41035988205568.0000 - val_loss: 4154154.5000 - val_mean_squared_error: 45169374134272.0000\n",
            "Epoch 31/100\n",
            "40/40 - 0s - loss: 3971403.5000 - mean_squared_error: 41681999101952.0000 - val_loss: 4146503.5000 - val_mean_squared_error: 46005919678464.0000\n",
            "Epoch 32/100\n",
            "40/40 - 0s - loss: 3956967.2500 - mean_squared_error: 40651722850304.0000 - val_loss: 4128923.5000 - val_mean_squared_error: 44479809585152.0000\n",
            "Epoch 33/100\n",
            "40/40 - 0s - loss: 3945448.0000 - mean_squared_error: 39921045733376.0000 - val_loss: 4118072.7500 - val_mean_squared_error: 44843476713472.0000\n",
            "Epoch 34/100\n",
            "40/40 - 0s - loss: 3931492.0000 - mean_squared_error: 41016996397056.0000 - val_loss: 4105272.5000 - val_mean_squared_error: 44769698906112.0000\n",
            "Epoch 35/100\n",
            "40/40 - 0s - loss: 3917668.5000 - mean_squared_error: 39739126185984.0000 - val_loss: 4088574.5000 - val_mean_squared_error: 43984500031488.0000\n",
            "Epoch 36/100\n",
            "40/40 - 0s - loss: 3902359.5000 - mean_squared_error: 39204536975360.0000 - val_loss: 4076045.5000 - val_mean_squared_error: 44320027574272.0000\n",
            "Epoch 37/100\n",
            "40/40 - 0s - loss: 3886338.7500 - mean_squared_error: 40202051518464.0000 - val_loss: 4059309.2500 - val_mean_squared_error: 43889528406016.0000\n",
            "Epoch 38/100\n",
            "40/40 - 0s - loss: 3869359.2500 - mean_squared_error: 38852907499520.0000 - val_loss: 4039859.2500 - val_mean_squared_error: 43076399661056.0000\n",
            "Epoch 39/100\n",
            "40/40 - 0s - loss: 3849920.0000 - mean_squared_error: 38421384921088.0000 - val_loss: 4020077.2500 - val_mean_squared_error: 42520679546880.0000\n",
            "Epoch 40/100\n",
            "40/40 - 0s - loss: 3833498.7500 - mean_squared_error: 39012492378112.0000 - val_loss: 3999900.7500 - val_mean_squared_error: 42168387371008.0000\n",
            "Epoch 41/100\n",
            "40/40 - 0s - loss: 3808762.5000 - mean_squared_error: 37906416664576.0000 - val_loss: 3979177.2500 - val_mean_squared_error: 42017694416896.0000\n",
            "Epoch 42/100\n",
            "40/40 - 0s - loss: 3786058.5000 - mean_squared_error: 37552698425344.0000 - val_loss: 3957231.5000 - val_mean_squared_error: 41916175482880.0000\n",
            "Epoch 43/100\n",
            "40/40 - 0s - loss: 3761301.5000 - mean_squared_error: 37355218010112.0000 - val_loss: 3933426.5000 - val_mean_squared_error: 41760210288640.0000\n",
            "Epoch 44/100\n",
            "40/40 - 0s - loss: 3733814.7500 - mean_squared_error: 37116557918208.0000 - val_loss: 3901753.2500 - val_mean_squared_error: 40690239143936.0000\n",
            "Epoch 45/100\n",
            "40/40 - 0s - loss: 3703742.5000 - mean_squared_error: 36299767545856.0000 - val_loss: 3874819.2500 - val_mean_squared_error: 40742756024320.0000\n",
            "Epoch 46/100\n",
            "40/40 - 0s - loss: 3671792.0000 - mean_squared_error: 36667335376896.0000 - val_loss: 3838822.0000 - val_mean_squared_error: 40007259652096.0000\n",
            "Epoch 47/100\n",
            "40/40 - 0s - loss: 3632489.2500 - mean_squared_error: 35942597394432.0000 - val_loss: 3800621.5000 - val_mean_squared_error: 39468375474176.0000\n",
            "Epoch 48/100\n",
            "40/40 - 0s - loss: 3590716.7500 - mean_squared_error: 35029619048448.0000 - val_loss: 3755005.2500 - val_mean_squared_error: 38622589878272.0000\n",
            "Epoch 49/100\n",
            "40/40 - 0s - loss: 3542723.5000 - mean_squared_error: 34153405874176.0000 - val_loss: 3706945.5000 - val_mean_squared_error: 38357103017984.0000\n",
            "Epoch 50/100\n",
            "40/40 - 0s - loss: 3486814.0000 - mean_squared_error: 33966945992704.0000 - val_loss: 3646545.2500 - val_mean_squared_error: 37256769306624.0000\n",
            "Epoch 51/100\n",
            "40/40 - 0s - loss: 3423527.2500 - mean_squared_error: 32414906712064.0000 - val_loss: 3578008.7500 - val_mean_squared_error: 36335893086208.0000\n",
            "Epoch 52/100\n",
            "40/40 - 0s - loss: 3348136.5000 - mean_squared_error: 32506829078528.0000 - val_loss: 3495116.5000 - val_mean_squared_error: 34808484855808.0000\n"
          ]
        },
        {
          "name": "stdout",
          "output_type": "stream",
          "text": [
            "Epoch 53/100\n",
            "40/40 - 0s - loss: 3258202.2500 - mean_squared_error: 30206465146880.0000 - val_loss: 3398524.7500 - val_mean_squared_error: 33827430858752.0000\n",
            "Epoch 54/100\n",
            "40/40 - 0s - loss: 3150926.5000 - mean_squared_error: 29997163085824.0000 - val_loss: 3281873.7500 - val_mean_squared_error: 32108324061184.0000\n",
            "Epoch 55/100\n",
            "40/40 - 0s - loss: 3014349.2500 - mean_squared_error: 28209680744448.0000 - val_loss: 3133511.2500 - val_mean_squared_error: 30632851800064.0000\n",
            "Epoch 56/100\n",
            "40/40 - 0s - loss: 2850339.5000 - mean_squared_error: 26859223908352.0000 - val_loss: 2958681.0000 - val_mean_squared_error: 28685516144640.0000\n",
            "Epoch 57/100\n",
            "40/40 - 0s - loss: 2649885.0000 - mean_squared_error: 23997108453376.0000 - val_loss: 2736008.0000 - val_mean_squared_error: 26249973989376.0000\n",
            "Epoch 58/100\n",
            "40/40 - 0s - loss: 2412787.0000 - mean_squared_error: 22434377891840.0000 - val_loss: 2483784.0000 - val_mean_squared_error: 22380151832576.0000\n",
            "Epoch 59/100\n",
            "40/40 - 0s - loss: 2149689.2500 - mean_squared_error: 18595446784000.0000 - val_loss: 2246149.0000 - val_mean_squared_error: 17707382603776.0000\n",
            "Epoch 60/100\n",
            "40/40 - 0s - loss: 1875155.7500 - mean_squared_error: 14807008804864.0000 - val_loss: 1913659.2500 - val_mean_squared_error: 14868734279680.0000\n",
            "Epoch 61/100\n",
            "40/40 - 0s - loss: 1590365.3750 - mean_squared_error: 11765706391552.0000 - val_loss: 1719428.6250 - val_mean_squared_error: 10108476063744.0000\n",
            "Epoch 62/100\n",
            "40/40 - 0s - loss: 1349732.7500 - mean_squared_error: 8527469871104.0000 - val_loss: 1366708.2500 - val_mean_squared_error: 9180148662272.0000\n",
            "Epoch 63/100\n",
            "40/40 - 0s - loss: 1129734.5000 - mean_squared_error: 6424261296128.0000 - val_loss: 1153100.1250 - val_mean_squared_error: 6872804360192.0000\n",
            "Epoch 64/100\n",
            "40/40 - 0s - loss: 953826.8750 - mean_squared_error: 4787136888832.0000 - val_loss: 968253.3125 - val_mean_squared_error: 4970942824448.0000\n",
            "Epoch 65/100\n",
            "40/40 - 0s - loss: 814083.6250 - mean_squared_error: 3402995073024.0000 - val_loss: 841463.3125 - val_mean_squared_error: 2982553321472.0000\n",
            "Epoch 66/100\n",
            "40/40 - 0s - loss: 689375.3125 - mean_squared_error: 2569307422720.0000 - val_loss: 731242.8750 - val_mean_squared_error: 2209195491328.0000\n",
            "Epoch 67/100\n",
            "40/40 - 0s - loss: 624739.1875 - mean_squared_error: 1963724111872.0000 - val_loss: 634748.8750 - val_mean_squared_error: 1777483513856.0000\n",
            "Epoch 68/100\n",
            "40/40 - 0s - loss: 540219.5000 - mean_squared_error: 1527088807936.0000 - val_loss: 559662.8125 - val_mean_squared_error: 1372551118848.0000\n",
            "Epoch 69/100\n",
            "40/40 - 0s - loss: 500111.2500 - mean_squared_error: 1167311503360.0000 - val_loss: 543227.1875 - val_mean_squared_error: 1273947226112.0000\n",
            "Epoch 70/100\n",
            "40/40 - 0s - loss: 483131.5938 - mean_squared_error: 1000299036672.0000 - val_loss: 496223.0000 - val_mean_squared_error: 747717918720.0000\n",
            "Epoch 71/100\n",
            "40/40 - 0s - loss: 422328.5938 - mean_squared_error: 787710869504.0000 - val_loss: 418748.3438 - val_mean_squared_error: 874075521024.0000\n",
            "Epoch 72/100\n",
            "40/40 - 0s - loss: 379237.0938 - mean_squared_error: 686950973440.0000 - val_loss: 400117.3750 - val_mean_squared_error: 700796305408.0000\n",
            "Epoch 73/100\n",
            "40/40 - 0s - loss: 364510.8125 - mean_squared_error: 549797232640.0000 - val_loss: 377507.3125 - val_mean_squared_error: 436080902144.0000\n",
            "Epoch 74/100\n",
            "40/40 - 0s - loss: 353941.6250 - mean_squared_error: 482144944128.0000 - val_loss: 334318.1562 - val_mean_squared_error: 472101224448.0000\n",
            "Epoch 75/100\n",
            "40/40 - 0s - loss: 346812.2188 - mean_squared_error: 423814496256.0000 - val_loss: 372813.4688 - val_mean_squared_error: 509112156160.0000\n",
            "Epoch 76/100\n",
            "40/40 - 0s - loss: 308965.0625 - mean_squared_error: 371452674048.0000 - val_loss: 303307.8125 - val_mean_squared_error: 308254474240.0000\n",
            "Epoch 77/100\n",
            "40/40 - 0s - loss: 299412.9375 - mean_squared_error: 328208056320.0000 - val_loss: 286823.5312 - val_mean_squared_error: 290890153984.0000\n",
            "Epoch 78/100\n",
            "40/40 - 0s - loss: 283989.0625 - mean_squared_error: 301088964608.0000 - val_loss: 291878.4062 - val_mean_squared_error: 228165976064.0000\n",
            "Epoch 79/100\n",
            "40/40 - 0s - loss: 276200.1875 - mean_squared_error: 257349615616.0000 - val_loss: 268035.6250 - val_mean_squared_error: 222463426560.0000\n",
            "Epoch 80/100\n",
            "40/40 - 0s - loss: 273093.4375 - mean_squared_error: 246255026176.0000 - val_loss: 255710.9531 - val_mean_squared_error: 223329484800.0000\n",
            "Epoch 81/100\n",
            "40/40 - 0s - loss: 275331.9375 - mean_squared_error: 222941577216.0000 - val_loss: 301313.9375 - val_mean_squared_error: 264918040576.0000\n",
            "Epoch 82/100\n",
            "40/40 - 0s - loss: 265172.7812 - mean_squared_error: 214606643200.0000 - val_loss: 245321.1562 - val_mean_squared_error: 196575739904.0000\n",
            "Epoch 83/100\n",
            "40/40 - 0s - loss: 250978.7500 - mean_squared_error: 197672075264.0000 - val_loss: 238592.9062 - val_mean_squared_error: 183002365952.0000\n",
            "Epoch 84/100\n",
            "40/40 - 0s - loss: 244106.9062 - mean_squared_error: 182488580096.0000 - val_loss: 234759.0000 - val_mean_squared_error: 174574764032.0000\n",
            "Epoch 85/100\n",
            "40/40 - 0s - loss: 241977.8750 - mean_squared_error: 175632252928.0000 - val_loss: 228091.8281 - val_mean_squared_error: 153989218304.0000\n",
            "Epoch 86/100\n",
            "40/40 - 0s - loss: 235100.7812 - mean_squared_error: 165512445952.0000 - val_loss: 226697.9531 - val_mean_squared_error: 164916002816.0000\n",
            "Epoch 87/100\n",
            "40/40 - 0s - loss: 232445.5781 - mean_squared_error: 159824609280.0000 - val_loss: 221534.5469 - val_mean_squared_error: 152343724032.0000\n",
            "Epoch 88/100\n",
            "40/40 - 0s - loss: 234291.8281 - mean_squared_error: 147340902400.0000 - val_loss: 289219.4062 - val_mean_squared_error: 207949037568.0000\n",
            "Epoch 89/100\n",
            "40/40 - 0s - loss: 230631.2031 - mean_squared_error: 144349495296.0000 - val_loss: 239957.6250 - val_mean_squared_error: 128981843968.0000\n",
            "Epoch 90/100\n",
            "40/40 - 0s - loss: 239275.0938 - mean_squared_error: 146395332608.0000 - val_loss: 218245.2969 - val_mean_squared_error: 135103823872.0000\n",
            "Epoch 91/100\n",
            "40/40 - 0s - loss: 222916.5469 - mean_squared_error: 137066184704.0000 - val_loss: 213363.2500 - val_mean_squared_error: 115948888064.0000\n",
            "Epoch 92/100\n",
            "40/40 - 0s - loss: 230919.3750 - mean_squared_error: 135626047488.0000 - val_loss: 239844.1562 - val_mean_squared_error: 149053472768.0000\n",
            "Epoch 93/100\n",
            "40/40 - 0s - loss: 217731.7500 - mean_squared_error: 129207107584.0000 - val_loss: 232001.9062 - val_mean_squared_error: 144583802880.0000\n",
            "Epoch 94/100\n",
            "40/40 - 0s - loss: 211055.5469 - mean_squared_error: 123931803648.0000 - val_loss: 216132.8750 - val_mean_squared_error: 126580924416.0000\n",
            "Epoch 95/100\n",
            "40/40 - 0s - loss: 210559.8438 - mean_squared_error: 120893038592.0000 - val_loss: 226071.7812 - val_mean_squared_error: 108781756416.0000\n",
            "Epoch 96/100\n",
            "40/40 - 0s - loss: 224774.2812 - mean_squared_error: 121613516800.0000 - val_loss: 216244.6250 - val_mean_squared_error: 129975648256.0000\n",
            "Epoch 97/100\n",
            "40/40 - 0s - loss: 203609.6094 - mean_squared_error: 114641584128.0000 - val_loss: 200826.0781 - val_mean_squared_error: 103234551808.0000\n",
            "Epoch 98/100\n",
            "40/40 - 0s - loss: 203172.4531 - mean_squared_error: 111563915264.0000 - val_loss: 195868.8438 - val_mean_squared_error: 115384631296.0000\n",
            "Epoch 99/100\n",
            "40/40 - 0s - loss: 204799.0469 - mean_squared_error: 110706081792.0000 - val_loss: 207299.1562 - val_mean_squared_error: 113632985088.0000\n",
            "Epoch 100/100\n",
            "40/40 - 0s - loss: 202055.0625 - mean_squared_error: 110426832896.0000 - val_loss: 197263.4688 - val_mean_squared_error: 96800866304.0000\n"
          ]
        }
      ],
      "source": [
        "ann.compile(optimizer='adam', loss='mean_absolute_error', metrics=['mean_squared_error'])\n",
        "history = ann.fit(X_train, y_train, epochs=100, batch_size=64, validation_split=0.2, verbose=2)"
      ]
    },
    {
      "cell_type": "code",
      "execution_count": null,
      "metadata": {
        "id": "kBuuI7C8l0X0",
        "outputId": "32842cdb-feda-4a57-ed9e-dc8b5dfb7736"
      },
      "outputs": [
        {
          "data": {
            "text/plain": [
              "<matplotlib.legend.Legend at 0x1d4fbf60160>"
            ]
          },
          "execution_count": 157,
          "metadata": {},
          "output_type": "execute_result"
        },
        {
          "data": {
            "image/png": "[encoded data removed]",
            "text/plain": [
              "<Figure size 432x288 with 1 Axes>"
            ]
          },
          "metadata": {
            "needs_background": "light"
          },
          "output_type": "display_data"
        }
      ],
      "source": [
        "plt.plot(history.history[\"loss\"], label=\"loss\")\n",
        "plt.plot(history.history[\"val_loss\"], label=\"val_loss\")\n",
        "plt.title('Model Loss')\n",
        "plt.ylabel('loss')\n",
        "plt.xlabel('epochs')\n",
        "plt.legend()"
      ]
    },
    {
      "cell_type": "code",
      "execution_count": null,
      "metadata": {
        "id": "4kFdhwcal0X0",
        "outputId": "31f75a9b-b730-41f4-f52c-f2052e4462b2"
      },
      "outputs": [
        {
          "data": {
            "text/plain": [
              "<matplotlib.legend.Legend at 0x1d4f9aa0940>"
            ]
          },
          "execution_count": 158,
          "metadata": {},
          "output_type": "execute_result"
        },
        {
          "data": {
            "image/png": "[encoded data removed]",
            "text/plain": [
              "<Figure size 432x288 with 1 Axes>"
            ]
          },
          "metadata": {
            "needs_background": "light"
          },
          "output_type": "display_data"
        }
      ],
      "source": [
        "plt.plot(history.history[\"mean_squared_error\"], label=\"mean_squared_error\")\n",
        "plt.plot(history.history[\"val_mean_squared_error\"], label=\"val_mean_squared_error\")\n",
        "plt.title('Erro médio')\n",
        "plt.ylabel('mean_squared_error')\n",
        "plt.xlabel('epochs')\n",
        "plt.legend()"
      ]
    },
    {
      "cell_type": "code",
      "execution_count": null,
      "metadata": {
        "id": "iipTGTTTl0X0",
        "outputId": "4bec4ed6-54e8-48b0-ac14-c8284b7a0802"
      },
      "outputs": [
        {
          "name": "stdout",
          "output_type": "stream",
          "text": [
            "Score: 99.84%\n"
          ]
        }
      ],
      "source": [
        "y_pred = ann.predict(X_test)\n",
        "print(f'Score: {round(r2_score(y_test, y_pred)*100,2)}%')"
      ]
    },
    {
      "cell_type": "code",
      "execution_count": null,
      "metadata": {
        "id": "tz-bVSBMl0X0",
        "outputId": "fad09e4d-b2b8-4bd4-b8c6-9dc1bfd3fdef"
      },
      "outputs": [
        {
          "data": {
            "image/png": "[encoded data removed]",
            "text/plain": [
              "<Figure size 720x432 with 1 Axes>"
            ]
          },
          "metadata": {
            "needs_background": "light"
          },
          "output_type": "display_data"
        }
      ],
      "source": [
        "plt.figure(figsize=(10, 6))\n",
        "plt.scatter(X_test, y_test, label='Dados reais', s=10)\n",
        "plt.scatter(X_test, y_pred, color='red', label='Predições',s=10)\n",
        "plt.xlabel('x')\n",
        "plt.ylabel('log10(x)')\n",
        "plt.legend()\n",
        "plt.title('Comparação entre dados reais e predições')\n",
        "plt.grid(True)\n"
      ]
    },
    {
      "cell_type": "code",
      "execution_count": null,
      "metadata": {
        "id": "BCH4EZTol0X1"
      },
      "outputs": [],
      "source": []
    },
    {
      "cell_type": "code",
      "execution_count": null,
      "metadata": {
        "id": "77zRarJll0X1"
      },
      "outputs": [],
      "source": []
    }
  ],
  "metadata": {
    "accelerator": "GPU",
    "colab": {
      "gpuType": "T4",
      "provenance": []
    },
    "kernelspec": {
      "display_name": "Python 3",
      "name": "python3"
    },
    "language_info": {
      "codemirror_mode": {
        "name": "ipython",
        "version": 3
      },
      "file_extension": ".py",
      "mimetype": "text/x-python",
      "name": "python",
      "nbconvert_exporter": "python",
      "pygments_lexer": "ipython3",
      "version": "3.11.4"
    }
  },
  "nbformat": 4,
  "nbformat_minor": 0
}
